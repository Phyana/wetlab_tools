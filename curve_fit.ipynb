{
 "cells": [
  {
   "cell_type": "code",
   "execution_count": 5,
   "metadata": {
    "collapsed": true
   },
   "outputs": [],
   "source": [
    "# These lines import relevant python packages, using the command 'import'.\n",
    "# In this example, packages used are numpy (renamed as np), matplotlib.pyplot (renamed as plt, the dot represents subpacksge)\n",
    "# and the optimize package from scipy.\n",
    "import numpy as np\n",
    "import matplotlib.pyplot as plt\n",
    "from scipy import optimize"
   ]
  },
  {
   "cell_type": "code",
   "execution_count": 28,
   "metadata": {
    "collapsed": true
   },
   "outputs": [],
   "source": [
    "# Read the input data for x (typically inducer conentrations) and y (typicall florescence measures)\n",
    "\n",
    "#x=np.array([5.86,2.93,1.465,0.7325,0.36625,0.183125,0.091563,0.045781,0.022891,0.011445,0.005723,0])\n",
    "#y=np.array([91523.7,90715.8,87582.3,71583.8,51311,34180.9,30596.2,29253.2,30259.8,26771.3,26320.3,25208.3])\n",
    "\n",
    "x=np.array([400,133.3333333,44.44444444,14.81481481,4.938271605,1.646090535,0.548696845,0.182898948,0.060966316,0.020322105,0.0067740350,0])\n",
    "y=np.array([90789.0,102172.4667,89830.43333,72608.56667,55563.96667,31565.4,23711.1,22009.26667,21549.7,21397.53333,21825.3,22435.86667])"
   ]
  },
  {
   "cell_type": "code",
   "execution_count": 18,
   "metadata": {
    "collapsed": true
   },
   "outputs": [],
   "source": [
    "# define the fitting functions. The two functions are provided with input x and parameters including Zmax, Keff, neff, beta.\n",
    "# the output of the functions are typically gfp levels\n",
    "# users can define new fitting functions\n",
    "\n",
    "def gfp_fit_v1(x, Zmax, Keff, neff, beta):\n",
    "    gfp=Zmax*(x/Keff)**neff/(1.0+(x/Keff)**neff)+beta\n",
    "    return gfp\n",
    "\n",
    "def gfp_fit_v2(x,Zmax,K1,m1,beta,C):\n",
    "    gfp=Zmax*(x/K1)**m1/(1+(x/K1)**m1+C)/(1+C)+beta\n",
    "    return gfp"
   ]
  },
  {
   "cell_type": "code",
   "execution_count": 31,
   "metadata": {
    "collapsed": false
   },
   "outputs": [
    {
     "data": {
      "image/png": "[encoded data removed]",
      "text/plain": [
       "<matplotlib.figure.Figure at 0x10ef97750>"
      ]
     },
     "metadata": {},
     "output_type": "display_data"
    },
    {
     "name": "stdout",
     "output_type": "stream",
     "text": [
      "[  7.55516040e+04   6.68632198e+00   1.20980805e+00   2.13442800e+04]\n"
     ]
    }
   ],
   "source": [
    "# plot the fitting data and the experiment data using the first fitting function gfp_fit_v1\n",
    "\n",
    "# define a figure object\n",
    "fig=plt.figure()\n",
    "# define an axis object from the figure\n",
    "ax=fig.add_subplot(111)\n",
    "# plot data using the command (ax.plot(x,y)), here the horizontal axis is in log scale\n",
    "# 'bo' specifies the experiment data are plotted in blue bubble dots\n",
    "ax.plot(np.log10(x+1e-2),y,'bo')\n",
    "\n",
    "# Use the curve_fit function in the optimize package to curve fit. The reference guide for this function can be found\n",
    "# https://docs.scipy.org/doc/scipy/reference/generated/scipy.optimize.curve_fit.html\n",
    "# gfp_fit_v1 species the fitting function, x is the input, y is the expected output. \n",
    "# p0 species the initial guess for the parameters Zmax as 92000, Keff as 20.0, neff as 0, and beta as 0. These number as arbitary.\n",
    "# bounds (bounds=([Zmax_low, Keff_low, neff_low, beta_low],[Zmax_high, Keff_high, neff_high, beta_high])) specifies the lower bounds and upper bounds for the parameters in the order Zmax, Keff, neff and beta.\n",
    "# for example, the lower bound of Zmax is 0, and upper bound is infinity.\n",
    "# the fitted parameters are stored in params. params[0] is Zmax, params[1] is Keff and so on\n",
    "params,params_cov=optimize.curve_fit(gfp_fit_v1,x,y,p0=[92000.0,20.0,0.0,0.0],bounds=([0,0,0,0],[np.inf,np.inf,np.inf,y[-1]]))\n",
    "\n",
    "# plot using the fitted data. The fitted data is generated using the command gfp_fit_v1(x,params[0],params[1],params[2],params[3])\n",
    "# ls='--' means linestyle is in dashed line\n",
    "ax.plot(np.log10(x+1e-2),gfp_fit_v1(x,params[0],params[1],params[2],params[3]),ls='--')\n",
    "\n",
    "# save the figure as 'fit1.png'\n",
    "fig.savefig('fit1.png')\n",
    "\n",
    "# display the figure below\n",
    "plt.show()\n",
    "\n",
    "# display the parameters\n",
    "print(params)"
   ]
  },
  {
   "cell_type": "code",
   "execution_count": 39,
   "metadata": {
    "collapsed": false,
    "scrolled": true
   },
   "outputs": [
    {
     "data": {
      "image/png": "[encoded data removed]",
      "text/plain": [
       "<matplotlib.figure.Figure at 0x10acd1c90>"
      ]
     },
     "metadata": {},
     "output_type": "display_data"
    },
    {
     "name": "stdout",
     "output_type": "stream",
     "text": [
      "('Zmax:', 91876.137888977712, 'K1:', 5.6880393742405619, 'm1:', 1.2097913531057694, 'beta:', 21344.216366989513, 'C:', 0.21606812392306138)\n"
     ]
    }
   ],
   "source": [
    "fig=plt.figure()\n",
    "ax=fig.add_subplot(111)\n",
    "ax.plot(np.log10(x+1e-2),y,'bo')\n",
    "params,params_cov=optimize.curve_fit(gfp_fit_v2,x,y,p0=[100000.0,10.0,0.0,0.0,0.0],bounds=([y[0],0,0,0,0],[np.inf,np.inf,np.inf,np.inf,y[-1]]))\n",
    "ax.plot(np.log10(x+1e-2),gfp_fit_v2(x,params[0],params[1],params[2],params[3],params[4]),ls='--')\n",
    "plt.show()\n",
    "fig.savefig('fit2.png')\n",
    "print(\"Zmax:\",params[0],\"K1:\",params[1],\"m1:\",params[2],\"beta:\",params[3],\"C:\",params[4])"
   ]
  },
  {
   "cell_type": "code",
   "execution_count": null,
   "metadata": {
    "collapsed": true
   },
   "outputs": [],
   "source": []
  }
 ],
 "metadata": {
  "kernelspec": {
   "display_name": "Python 2",
   "language": "python",
   "name": "python2"
  },
  "language_info": {
   "codemirror_mode": {
    "name": "ipython",
    "version": 2
   },
   "file_extension": ".py",
   "mimetype": "text/x-python",
   "name": "python",
   "nbconvert_exporter": "python",
   "pygments_lexer": "ipython2",
   "version": "2.7.14"
  }
 },
 "nbformat": 4,
 "nbformat_minor": 2
}
