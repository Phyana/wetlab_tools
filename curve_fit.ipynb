{
 "cells": [
  {
   "cell_type": "code",
   "execution_count": 5,
   "metadata": {
    "collapsed": true
   },
   "outputs": [],
   "source": [
    "import numpy as np\n",
    "import matplotlib.pyplot as plt\n",
    "from scipy import optimize"
   ]
  },
  {
   "cell_type": "code",
   "execution_count": 9,
   "metadata": {
    "collapsed": true
   },
   "outputs": [],
   "source": [
    "#x=np.array([5.86,2.93,1.465,0.7325,0.36625,0.183125,0.091563,0.045781,0.022891,0.011445,0.005723,0])\n",
    "#y=np.array([91523.7,90715.8,87582.3,71583.8,51311,34180.9,30596.2,29253.2,30259.8,26771.3,26320.3,25208.3])\n",
    "\n",
    "x=np.array([400,133.3333333,44.44444444,14.81481481,4.938271605,1.646090535,0.548696845,0.182898948,0.060966316,0.020322105,0.0067740350])\n",
    "y=np.array([102172.4667,89830.43333,72608.56667,55563.96667,31565.4,23711.1,22009.26667,21549.7,21397.53333,21825.3,22435.86667\n",
    "])"
   ]
  },
  {
   "cell_type": "code",
   "execution_count": 25,
   "metadata": {
    "collapsed": false
   },
   "outputs": [
    {
     "ename": "SyntaxError",
     "evalue": "invalid syntax (<ipython-input-25-9fa3039f283e>, line 9)",
     "output_type": "error",
     "traceback": [
      "\u001b[0;36m  File \u001b[0;32m\"<ipython-input-25-9fa3039f283e>\"\u001b[0;36m, line \u001b[0;32m9\u001b[0m\n\u001b[0;31m    0\u001b[0m\n\u001b[0m    ^\u001b[0m\n\u001b[0;31mSyntaxError\u001b[0m\u001b[0;31m:\u001b[0m invalid syntax\n"
     ]
    }
   ],
   "source": [
    "x=np.array([400,133.3333333,44.44444444,14.81481481\n",
    ",4.938271605\n",
    ",1.646090535\n",
    ",0.548696845\n",
    ",0.182898948\n",
    ",0.060966316\n",
    ",0.020322105\n",
    ",0.006774035\n",
    "0\n",
    "])\n",
    "y=np.array([90789.96667\n",
    ",102172.4667\n",
    ",89830.43333\n",
    ",72608.56667\n",
    ",55563.96667\n",
    ",31565.4\n",
    ",23711.1\n",
    ",22009.26667\n",
    ",21549.7\n",
    ",21397.53333\n",
    ",21825.3\n",
    ",22435.86667\n",
    "])"
   ]
  },
  {
   "cell_type": "code",
   "execution_count": 18,
   "metadata": {
    "collapsed": true
   },
   "outputs": [],
   "source": [
    "def gfp_fit_v1(x, Zmax, Keff, neff, beta):\n",
    "    gfp=Zmax*(x/Keff)**neff/(1.0+(x/Keff)**neff)+beta\n",
    "    return gfp\n",
    "\n",
    "def gfp_fit_v2(x,Zmax,K1,m1,beta,C):\n",
    "    gfp=Zmax*(x/K1)**m1/(1+(x/K1)**m1+C)/(1+C)+beta\n",
    "    return gfp"
   ]
  },
  {
   "cell_type": "code",
   "execution_count": 4,
   "metadata": {
    "collapsed": false
   },
   "outputs": [
    {
     "data": {
      "image/png": "[encoded data removed]",
      "text/plain": [
       "<matplotlib.figure.Figure at 0x109f13910>"
      ]
     },
     "metadata": {},
     "output_type": "display_data"
    },
    {
     "name": "stdout",
     "output_type": "stream",
     "text": [
      "[  6.81340513e+04   4.72786433e-01   1.81022988e+00   2.52083000e+04]\n"
     ]
    }
   ],
   "source": [
    "fig=plt.figure()\n",
    "ax=fig.add_subplot(111)\n",
    "ax.plot(np.log10(x+1e-2),y,'bo')\n",
    "params,params_cov=optimize.curve_fit(gfp_fit_v1,x,y,p0=[92000.0,20.0,0.0,0.0],bounds=([0,0,0,0],[np.inf,np.inf,np.inf,y[-1]]))\n",
    "ax.plot(np.log10(x+1e-2),gfp_fit_v1(x,params[0],params[1],params[2],params[3]),ls='--')\n",
    "plt.show()\n",
    "print(params)"
   ]
  },
  {
   "cell_type": "code",
   "execution_count": 24,
   "metadata": {
    "collapsed": false
   },
   "outputs": [
    {
     "data": {
      "image/png": "[encoded data removed]",
      "text/plain": [
       "<matplotlib.figure.Figure at 0x10ed7ec50>"
      ]
     },
     "metadata": {},
     "output_type": "display_data"
    },
    {
     "name": "stdout",
     "output_type": "stream",
     "text": [
      "('Zmax:', 99657.64200159855, 'K1:', 22.5708411603634, 'm1:', 1.003855433574965, 'beta:', 20898.960116300932, 'C:', 0.17454681787806803)\n"
     ]
    }
   ],
   "source": [
    "fig=plt.figure()\n",
    "ax=fig.add_subplot(111)\n",
    "ax.plot(np.log10(x+1e-2),y,'bo')\n",
    "params,params_cov=optimize.curve_fit(gfp_fit_v2,x,y,p0=[100000.0,20.0,0.0,0.0,0.0],bounds=([0,0,0,0,0],[np.inf,np.inf,np.inf,np.inf,y[-1]]))\n",
    "ax.plot(np.log10(x+1e-2),gfp_fit_v2(x,params[0],params[1],params[2],params[3],params[4]),ls='--')\n",
    "plt.show()\n",
    "print(\"Zmax:\",params[0],\"K1:\",params[1],\"m1:\",params[2],\"beta:\",params[3],\"C:\",params[4])"
   ]
  },
  {
   "cell_type": "code",
   "execution_count": null,
   "metadata": {
    "collapsed": true
   },
   "outputs": [],
   "source": []
  }
 ],
 "metadata": {
  "kernelspec": {
   "display_name": "Python 2",
   "language": "python",
   "name": "python2"
  },
  "language_info": {
   "codemirror_mode": {
    "name": "ipython",
    "version": 2
   },
   "file_extension": ".py",
   "mimetype": "text/x-python",
   "name": "python",
   "nbconvert_exporter": "python",
   "pygments_lexer": "ipython2",
   "version": "2.7.14"
  }
 },
 "nbformat": 4,
 "nbformat_minor": 2
}
